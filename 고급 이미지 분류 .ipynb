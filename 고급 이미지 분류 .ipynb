{
 "cells": [
  {
   "cell_type": "code",
   "execution_count": 1,
   "metadata": {},
   "outputs": [],
   "source": [
    "# https://www.tensorflow.org/tutorials/images/classification?hl=ko"
   ]
  },
  {
   "cell_type": "markdown",
   "metadata": {},
   "source": [
    "# 고급 이미지 분류"
   ]
  },
  {
   "cell_type": "markdown",
   "metadata": {},
   "source": [
    " 이미지에서 고양이 또는 개를 분류 하는 방법을 가지고 실습 !\n",
    "`tf.keras.Sequential`모델을 사용하여 이미지 분류기를 작성하고를 사용하여 데이터를로드할것이다. \n",
    " \n",
    " `tf.keras.preprocessing.image.ImageDataGenerator` \n",
    "- 모델과 함께 사용할 디스크의 데이터를 효율적으로 사용하기 위해 클래스를 사용하여 데이터 입력 파이프 라인 구축 tf.keras.preprocessing.image.ImageDataGenerator\n",
    "- 과적합- 그것을 식별하고 예방하는 방법\n",
    "\n",
    "- 데이터 확대 및 드롭아웃-컴퓨터 비전 작업에서 과적합하여 데이터 파이프 라인 및 이미지 분류기 모델에 통합하기 위한 주요기술\n"
   ]
  },
  {
   "cell_type": "markdown",
   "metadata": {},
   "source": [
    "## 진행 흐름 \n",
    "\n",
    "1. 데이터 검사 및 이해 \n",
    "2. 입력 파이프 라인 구출 \n",
    "3. 모델 구축 \n",
    "4. 모델 훈련\n",
    "5. 모델 테스트 \n",
    "6. 모델 개선 및 프로세스 반복\n",
    "\n"
   ]
  },
  {
   "cell_type": "markdown",
   "metadata": {},
   "source": [
    "## 1. 데이터 검사 및 이해"
   ]
  },
  {
   "cell_type": "markdown",
   "metadata": {},
   "source": [
    "### 패키지 가져오기\n",
    "\n",
    "os: 파일 및 디렉토리 구조를 판독하는데 사용    \n",
    "NumPy : 배열 파이썬리스트를 변환하고 요구되는 매트릭스 연산을 수행   \n",
    "matplotlib.pyplot : 트레이닝 및 검증 데이터의 그래프 표시 이미지를 플롯      "
   ]
  },
  {
   "cell_type": "code",
   "execution_count": 3,
   "metadata": {},
   "outputs": [],
   "source": [
    "import os\n",
    "import numpy as np\n",
    "import matplotlib.pyplot as plt"
   ]
  },
  {
   "cell_type": "code",
   "execution_count": 4,
   "metadata": {},
   "outputs": [],
   "source": [
    "import tensorflow as tf \n",
    "\n",
    "from tensorflow.keras.models import Sequential\n",
    "from tensorflow.keras.layers import Dense, Conv2D, Flatten, Dropout, MaxPooling2D\n",
    "from tensorflow.keras.preprocessing.image import ImageDataGenerator"
   ]
  },
  {
   "cell_type": "markdown",
   "metadata": {},
   "source": [
    "## 1.1 데이터 로드 \n",
    "\n",
    "- 데이터 세트를 다운로드 \n",
    "    - Kaggle 의 필터링 된 버전의 Dogs vs Cats 데이터 세트를 사용한다.\n",
    "    - 데이터 세트의 아카이브 버전을 다운로드하여 \"/ tmp /\"디렉토리에 저장한다. "
   ]
  },
  {
   "cell_type": "code",
   "execution_count": null,
   "metadata": {},
   "outputs": [],
   "source": [
    "# https://datascienceschool.net/view-notebook/bc7f54b21a8349c79ecaa4906428dea1/"
   ]
  },
  {
   "cell_type": "markdown",
   "metadata": {},
   "source": [
    "` tf.keras.utils.get_file() ` :  인터넷의 파일을 로컬 컴퓨터의 홈 디렉토리 아래 .keras/datasets 디렉토리로 다운로드"
   ]
  },
  {
   "cell_type": "code",
   "execution_count": 5,
   "metadata": {},
   "outputs": [
    {
     "name": "stdout",
     "output_type": "stream",
     "text": [
      "Downloading data from https://storage.googleapis.com/mledu-datasets/cats_and_dogs_filtered.zip\n",
      "68608000/68606236 [==============================] - 6s 0us/step\n"
     ]
    }
   ],
   "source": [
    "_URL = 'https://storage.googleapis.com/mledu-datasets/cats_and_dogs_filtered.zip'\n",
    "\n",
    "# tf.keras.utils.get_file -> ??? \n",
    "path_to_zip = tf.keras.utils.get_file('cats_and_dogs.zip', origin=_URL, extract=True)\n",
    "\n",
    "PATH = os.path.join(os.path.dirname(path_to_zip), 'cats_and_dogs_filtered')"
   ]
  },
  {
   "cell_type": "markdown",
   "metadata": {},
   "source": [
    "```\n",
    "cats_and_dogs_filtered \n",
    "| __ train \n",
    "    | ______ 고양이 : [cat.0.jpg, cat.1.jpg, cat.2.jpg ....]\n",
    "    | ______ 개 : [dog.0.jpg, dog.1.jpg, dog.2.jpg ...]\n",
    "| __ validation\n",
    "    | ______ 고양이 : [cat.2000.jpg, cat.2001.jpg, cat.2002.jpg ....]\n",
    "    | ______ 개 : [dog.2000.jpg, dog.2001.jpg, dog.2002.jpg ...]\n",
    "    \n",
    "```"
   ]
  },
  {
   "cell_type": "code",
   "execution_count": 6,
   "metadata": {},
   "outputs": [],
   "source": [
    "train_dir = os.path.join(PATH,'train')\n",
    "validation_dir = os.path.join(PATH,'validation')"
   ]
  },
  {
   "cell_type": "code",
   "execution_count": 7,
   "metadata": {},
   "outputs": [],
   "source": [
    "# train\n",
    "train_cats_dir = os.path.join(train_dir, 'cats')  # training cat pictures\n",
    "train_dogs_dir = os.path.join(train_dir, 'dogs')  # training dog pictures\n",
    "# validation\n",
    "validation_cats_dir = os.path.join(validation_dir, 'cats')  # validation cat pictures\n",
    "validation_dogs_dir = os.path.join(validation_dir, 'dogs')  # validation dog pictures"
   ]
  },
  {
   "cell_type": "markdown",
   "metadata": {},
   "source": [
    "## 1.2 데이터의 이해 \n",
    "\n",
    "- 훈련 및 검증 디렉토리에 고양이와 개 이미지가 몇개인 지 확인해보자 \n",
    "- 그리고 편의를 위해서 데이터 세트를 사전 처리하고 네트워크를 훈련하는 동안 사용할 변수를 설정하자"
   ]
  },
  {
   "cell_type": "code",
   "execution_count": 8,
   "metadata": {},
   "outputs": [],
   "source": [
    "num_cats_tr = len(os.listdir(train_cats_dir))\n",
    "num_dogs_tr = len(os.listdir(train_dogs_dir))\n",
    "\n",
    "num_cats_val = len(os.listdir(validation_cats_dir))\n",
    "num_dogs_val = len(os.listdir(validation_dogs_dir))\n",
    "\n",
    "total_train = num_cats_tr + num_dogs_tr\n",
    "total_val = num_cats_val + num_dogs_val"
   ]
  },
  {
   "cell_type": "code",
   "execution_count": 10,
   "metadata": {},
   "outputs": [
    {
     "name": "stdout",
     "output_type": "stream",
     "text": [
      "총 훈련 고양이 이미지: 1000\n",
      "총 훈련 개 이미지: 1000\n",
      "총 검증 고양이 이미지: 500\n",
      "총 검증 개 이미지: 500\n",
      "--\n",
      "총 학습 이미지: 2000\n",
      "총 검증 이미지: 1000\n"
     ]
    }
   ],
   "source": [
    "print('총 훈련 고양이 이미지:', num_cats_tr)\n",
    "print('총 훈련 개 이미지:', num_dogs_tr)\n",
    "\n",
    "print('총 검증 고양이 이미지:', num_cats_val)\n",
    "print('총 검증 개 이미지:', num_dogs_val)\n",
    "print(\"--\")\n",
    "print(\"총 학습 이미지:\", total_train)\n",
    "print(\"총 검증 이미지:\", total_val)"
   ]
  },
  {
   "cell_type": "code",
   "execution_count": 11,
   "metadata": {},
   "outputs": [],
   "source": [
    "batch_size = 128\n",
    "epochs = 15\n",
    "IMG_HEIGHT = 150\n",
    "IMG_WIDTH = 150"
   ]
  },
  {
   "cell_type": "markdown",
   "metadata": {},
   "source": [
    "##  1.3 데이터 준비 \n",
    "\n",
    "네트워크에 공급하기 전에 이미지를 적절히 사전 처리 된 부동 소수점 텐서로 포멧 \n",
    "\n",
    "1. 디스크에서 이미지를 읽는다.\n",
    "2. 이미지 내용을 디코딩해서 RGB 내용에 따라 적절한 격자 형식으로 변환한다. \n",
    "3. 부통 소수점 텐서로 변환한다.\n",
    "4. 신경망은 작은 입력값을 처리하는 것을 선호     \n",
    "    -> 텐서를 0에서 255 사이의 값에서 0에서 1 사이의 값으로 재조정한다.     \n",
    "    \n",
    "\n",
    "모든 작업은 `ImageDataGenerator` 제공하는 클래스로 수행    \n",
    "tf.keras. 디스크에서 이미지를 읽고 적절한 텐서로 사전 처리 가능하다.     \n",
    "이러한 이미지를 텐서 배치로 변환하는 생성기를 설정하여 네트워크를 훈련 할 때 유용하다.     "
   ]
  },
  {
   "cell_type": "code",
   "execution_count": 12,
   "metadata": {},
   "outputs": [],
   "source": [
    "train_image_generator = ImageDataGenerator(rescale=1./255) \n",
    "validation_image_generator = ImageDataGenerator(rescale=1./255) "
   ]
  },
  {
   "cell_type": "markdown",
   "metadata": {},
   "source": [
    " 훈련 및 유효성 검사 이미지 생성기를 정의한다.       \n",
    " flow_from_directory을 이용해 디스크에서 이미지를 로드한다.    \n",
    " 그리고 크기를 조정한 다음 이미지를 필요한 크기로 조정한다.    "
   ]
  },
  {
   "cell_type": "code",
   "execution_count": 13,
   "metadata": {},
   "outputs": [
    {
     "name": "stdout",
     "output_type": "stream",
     "text": [
      "Found 2000 images belonging to 2 classes.\n"
     ]
    }
   ],
   "source": [
    "train_data_gen = train_image_generator.flow_from_directory(batch_size=batch_size,\n",
    "                                                           directory=train_dir,\n",
    "                                                           shuffle=True,\n",
    "                                                           target_size=(IMG_HEIGHT, IMG_WIDTH),\n",
    "                                                           class_mode='binary')"
   ]
  },
  {
   "cell_type": "code",
   "execution_count": 14,
   "metadata": {},
   "outputs": [
    {
     "name": "stdout",
     "output_type": "stream",
     "text": [
      "Found 1000 images belonging to 2 classes.\n"
     ]
    }
   ],
   "source": [
    "val_data_gen = validation_image_generator.flow_from_directory(batch_size=batch_size,\n",
    "                                                              directory=validation_dir,\n",
    "                                                              target_size=(IMG_HEIGHT, IMG_WIDTH),\n",
    "                                                              class_mode='binary')"
   ]
  },
  {
   "cell_type": "markdown",
   "metadata": {},
   "source": [
    "## 교육 이미지 시각화 "
   ]
  },
  {
   "cell_type": "code",
   "execution_count": null,
   "metadata": {},
   "outputs": [],
   "source": []
  }
 ],
 "metadata": {
  "kernelspec": {
   "display_name": "Python 3",
   "language": "python",
   "name": "python3"
  },
  "language_info": {
   "codemirror_mode": {
    "name": "ipython",
    "version": 3
   },
   "file_extension": ".py",
   "mimetype": "text/x-python",
   "name": "python",
   "nbconvert_exporter": "python",
   "pygments_lexer": "ipython3",
   "version": "3.7.6"
  }
 },
 "nbformat": 4,
 "nbformat_minor": 4
}
