{
 "cells": [
  {
   "cell_type": "code",
   "execution_count": 1,
   "metadata": {},
   "outputs": [],
   "source": [
    "import re, os                                               \n",
    "from urllib.request import Request,urlopen                     \n",
    "import bs4  \n",
    "import time\n",
    "import pandas as pd\n",
    "from selenium import webdriver    \n",
    "# from selenium.webdriver.common.keys import Keys\n",
    "\n"
   ]
  },
  {
   "cell_type": "code",
   "execution_count": 2,
   "metadata": {},
   "outputs": [
    {
     "data": {
      "text/plain": [
       "'C:\\\\CNN_Cheers\\\\chromedriver.exe'"
      ]
     },
     "execution_count": 2,
     "metadata": {},
     "output_type": "execute_result"
    }
   ],
   "source": [
    "os.getcwd()+'\\\\chromedriver.exe'"
   ]
  },
  {
   "cell_type": "code",
   "execution_count": 4,
   "metadata": {},
   "outputs": [],
   "source": [
    "driver = webdriver.Chrome(os.getcwd()+'\\\\chromedriver.exe')\n",
    "# driver.get(url)"
   ]
  },
  {
   "cell_type": "code",
   "execution_count": 8,
   "metadata": {},
   "outputs": [],
   "source": [
    "url_fst = \"https://www.tripadvisor.com/Search?q=south%20korea&searchSessionId=FEA1095D400E57A72FD10023F998B9171588658590823ssid&searchNearby=false&sid=BB26669DA95EE28FEEAE860A2E877D901588658599003&blockRedirect=true&rf=2&ssrc=e\"\n",
    "url_pat = 'https://www.tripadvisor.com/Search?q=south%20korea&searchSessionId=FEA1095D400E57A72FD10023F998B9171588658590823ssid&searchNearby=false&sid=BB26669DA95EE28FEEAE860A2E877D901588658599003&blockRedirect=true&rf=3&ssrc=e&o=1'\n",
    "     "
   ]
  },
  {
   "cell_type": "code",
   "execution_count": 17,
   "metadata": {},
   "outputs": [
    {
     "ename": "WebDriverException",
     "evalue": "Message: chrome not reachable\n  (Session info: chrome=81.0.4044.129)\n",
     "output_type": "error",
     "traceback": [
      "\u001b[1;31m---------------------------------------------------------------------------\u001b[0m",
      "\u001b[1;31mWebDriverException\u001b[0m                        Traceback (most recent call last)",
      "\u001b[1;32m<ipython-input-17-4c1efb5ba31f>\u001b[0m in \u001b[0;36m<module>\u001b[1;34m\u001b[0m\n\u001b[1;32m----> 1\u001b[1;33m \u001b[0mdriver\u001b[0m\u001b[1;33m.\u001b[0m\u001b[0mget\u001b[0m\u001b[1;33m(\u001b[0m\u001b[0murl_fst\u001b[0m\u001b[1;33m)\u001b[0m\u001b[1;33m\u001b[0m\u001b[0m\n\u001b[0m",
      "\u001b[1;32m~\\Anaconda3\\lib\\site-packages\\selenium\\webdriver\\remote\\webdriver.py\u001b[0m in \u001b[0;36mget\u001b[1;34m(self, url)\u001b[0m\n\u001b[0;32m    331\u001b[0m         \u001b[0mLoads\u001b[0m \u001b[0ma\u001b[0m \u001b[0mweb\u001b[0m \u001b[0mpage\u001b[0m \u001b[1;32min\u001b[0m \u001b[0mthe\u001b[0m \u001b[0mcurrent\u001b[0m \u001b[0mbrowser\u001b[0m \u001b[0msession\u001b[0m\u001b[1;33m.\u001b[0m\u001b[1;33m\u001b[0m\u001b[0m\n\u001b[0;32m    332\u001b[0m         \"\"\"\n\u001b[1;32m--> 333\u001b[1;33m         \u001b[0mself\u001b[0m\u001b[1;33m.\u001b[0m\u001b[0mexecute\u001b[0m\u001b[1;33m(\u001b[0m\u001b[0mCommand\u001b[0m\u001b[1;33m.\u001b[0m\u001b[0mGET\u001b[0m\u001b[1;33m,\u001b[0m \u001b[1;33m{\u001b[0m\u001b[1;34m'url'\u001b[0m\u001b[1;33m:\u001b[0m \u001b[0murl\u001b[0m\u001b[1;33m}\u001b[0m\u001b[1;33m)\u001b[0m\u001b[1;33m\u001b[0m\u001b[0m\n\u001b[0m\u001b[0;32m    334\u001b[0m \u001b[1;33m\u001b[0m\u001b[0m\n\u001b[0;32m    335\u001b[0m     \u001b[1;33m@\u001b[0m\u001b[0mproperty\u001b[0m\u001b[1;33m\u001b[0m\u001b[0m\n",
      "\u001b[1;32m~\\Anaconda3\\lib\\site-packages\\selenium\\webdriver\\remote\\webdriver.py\u001b[0m in \u001b[0;36mexecute\u001b[1;34m(self, driver_command, params)\u001b[0m\n\u001b[0;32m    319\u001b[0m         \u001b[0mresponse\u001b[0m \u001b[1;33m=\u001b[0m \u001b[0mself\u001b[0m\u001b[1;33m.\u001b[0m\u001b[0mcommand_executor\u001b[0m\u001b[1;33m.\u001b[0m\u001b[0mexecute\u001b[0m\u001b[1;33m(\u001b[0m\u001b[0mdriver_command\u001b[0m\u001b[1;33m,\u001b[0m \u001b[0mparams\u001b[0m\u001b[1;33m)\u001b[0m\u001b[1;33m\u001b[0m\u001b[0m\n\u001b[0;32m    320\u001b[0m         \u001b[1;32mif\u001b[0m \u001b[0mresponse\u001b[0m\u001b[1;33m:\u001b[0m\u001b[1;33m\u001b[0m\u001b[0m\n\u001b[1;32m--> 321\u001b[1;33m             \u001b[0mself\u001b[0m\u001b[1;33m.\u001b[0m\u001b[0merror_handler\u001b[0m\u001b[1;33m.\u001b[0m\u001b[0mcheck_response\u001b[0m\u001b[1;33m(\u001b[0m\u001b[0mresponse\u001b[0m\u001b[1;33m)\u001b[0m\u001b[1;33m\u001b[0m\u001b[0m\n\u001b[0m\u001b[0;32m    322\u001b[0m             response['value'] = self._unwrap_value(\n\u001b[0;32m    323\u001b[0m                 response.get('value', None))\n",
      "\u001b[1;32m~\\Anaconda3\\lib\\site-packages\\selenium\\webdriver\\remote\\errorhandler.py\u001b[0m in \u001b[0;36mcheck_response\u001b[1;34m(self, response)\u001b[0m\n\u001b[0;32m    240\u001b[0m                 \u001b[0malert_text\u001b[0m \u001b[1;33m=\u001b[0m \u001b[0mvalue\u001b[0m\u001b[1;33m[\u001b[0m\u001b[1;34m'alert'\u001b[0m\u001b[1;33m]\u001b[0m\u001b[1;33m.\u001b[0m\u001b[0mget\u001b[0m\u001b[1;33m(\u001b[0m\u001b[1;34m'text'\u001b[0m\u001b[1;33m)\u001b[0m\u001b[1;33m\u001b[0m\u001b[0m\n\u001b[0;32m    241\u001b[0m             \u001b[1;32mraise\u001b[0m \u001b[0mexception_class\u001b[0m\u001b[1;33m(\u001b[0m\u001b[0mmessage\u001b[0m\u001b[1;33m,\u001b[0m \u001b[0mscreen\u001b[0m\u001b[1;33m,\u001b[0m \u001b[0mstacktrace\u001b[0m\u001b[1;33m,\u001b[0m \u001b[0malert_text\u001b[0m\u001b[1;33m)\u001b[0m\u001b[1;33m\u001b[0m\u001b[0m\n\u001b[1;32m--> 242\u001b[1;33m         \u001b[1;32mraise\u001b[0m \u001b[0mexception_class\u001b[0m\u001b[1;33m(\u001b[0m\u001b[0mmessage\u001b[0m\u001b[1;33m,\u001b[0m \u001b[0mscreen\u001b[0m\u001b[1;33m,\u001b[0m \u001b[0mstacktrace\u001b[0m\u001b[1;33m)\u001b[0m\u001b[1;33m\u001b[0m\u001b[0m\n\u001b[0m\u001b[0;32m    243\u001b[0m \u001b[1;33m\u001b[0m\u001b[0m\n\u001b[0;32m    244\u001b[0m     \u001b[1;32mdef\u001b[0m \u001b[0m_value_or_default\u001b[0m\u001b[1;33m(\u001b[0m\u001b[0mself\u001b[0m\u001b[1;33m,\u001b[0m \u001b[0mobj\u001b[0m\u001b[1;33m,\u001b[0m \u001b[0mkey\u001b[0m\u001b[1;33m,\u001b[0m \u001b[0mdefault\u001b[0m\u001b[1;33m)\u001b[0m\u001b[1;33m:\u001b[0m\u001b[1;33m\u001b[0m\u001b[0m\n",
      "\u001b[1;31mWebDriverException\u001b[0m: Message: chrome not reachable\n  (Session info: chrome=81.0.4044.129)\n"
     ]
    }
   ],
   "source": [
    "driver.get(url_fst)"
   ]
  },
  {
   "cell_type": "code",
   "execution_count": null,
   "metadata": {},
   "outputs": [],
   "source": []
  },
  {
   "cell_type": "code",
   "execution_count": null,
   "metadata": {},
   "outputs": [],
   "source": [
    "CSS_review=\".prw_rup \"\n",
    "reviews = chrome.find_elements_by_css_selector(CSS_review)\n",
    "# len(reviews) #리뷰 개수\n",
    "\n",
    "CSS_review_title=\"div\"\n",
    "for review in reviews:\n",
    "    title=review.find_elements_by_css_selector(CSS_review_title)\n",
    "#     for i in rna\n",
    "    print(len(title)) #.text는 텍스트 내용을 가져온다."
   ]
  },
  {
   "cell_type": "code",
   "execution_count": 27,
   "metadata": {},
   "outputs": [],
   "source": [
    "from selenium import webdriver as driver\n",
    "from selenium.webdriver import ActionChains as AC\n",
    "\n",
    "a=[]\n",
    "\n",
    "province_url=f\"https://www.tripadvisor.com/Search?q=south%20korea&searchSessionId=FEA1095D400E57A72FD10023F998B9171588658590823ssid&searchNearby=false&sid=BB26669DA95EE28FEEAE860A2E877D901588658599003&blockRedirect=true&rf=2&ssrc=e\"\n",
    "\n",
    "chrome = driver.Chrome()\n",
    "chrome.get(province_url)\n",
    "\n",
    "CSS_review=\"ui_columns  \"\n",
    "reviews = chrome.find_elements_by_css_selector(CSS_review)\n",
    "\n",
    "for review in reviews:\n",
    "    a.append(review.text)\n",
    "    print(a)\n",
    "    "
   ]
  },
  {
   "cell_type": "code",
   "execution_count": null,
   "metadata": {},
   "outputs": [],
   "source": []
  },
  {
   "cell_type": "code",
   "execution_count": null,
   "metadata": {},
   "outputs": [],
   "source": [
    "import re, os                                               \n",
    "from urllib.request import Request,urlopen                     \n",
    "import bs4  \n",
    "import time\n",
    "import pandas as pd\n",
    "from selenium import webdriver    \n",
    "# from selenium.webdriver.common.keys import Keys\n",
    "\n",
    "\n",
    "url=\"https://www.tripadvisor.com/Search?q=south%20korea&searchSessionId=FEA1095D400E57A72FD10023F998B9171588658590823ssid&searchNearby=false&sid=BB26669DA95EE28FEEAE860A2E877D901588658599003&blockRedirect=true&rf=2&ssrc=e\"\n",
    "\n",
    "chrome = driver.Chrome()\n",
    "chrome.get(url)"
   ]
  },
  {
   "cell_type": "code",
   "execution_count": 37,
   "metadata": {},
   "outputs": [
    {
     "ename": "AttributeError",
     "evalue": "'list' object has no attribute 'get_text'",
     "output_type": "error",
     "traceback": [
      "\u001b[1;31m---------------------------------------------------------------------------\u001b[0m",
      "\u001b[1;31mAttributeError\u001b[0m                            Traceback (most recent call last)",
      "\u001b[1;32m<ipython-input-37-2a14fc312543>\u001b[0m in \u001b[0;36m<module>\u001b[1;34m\u001b[0m\n\u001b[0;32m     11\u001b[0m \u001b[1;33m\u001b[0m\u001b[0m\n\u001b[0;32m     12\u001b[0m \u001b[0mreviews\u001b[0m \u001b[1;33m=\u001b[0m \u001b[0mchrome\u001b[0m\u001b[1;33m.\u001b[0m\u001b[0mfind_elements_by_xpath\u001b[0m\u001b[1;33m(\u001b[0m\u001b[1;34m\"//a[@href]\"\u001b[0m\u001b[1;33m)\u001b[0m\u001b[1;33m\u001b[0m\u001b[0m\n\u001b[1;32m---> 13\u001b[1;33m \u001b[0mreviews\u001b[0m\u001b[1;33m.\u001b[0m\u001b[0mget_text\u001b[0m\u001b[1;33m(\u001b[0m\u001b[1;33m)\u001b[0m\u001b[1;33m\u001b[0m\u001b[0m\n\u001b[0m\u001b[0;32m     14\u001b[0m \u001b[1;31m# a.append(reviews.text)\u001b[0m\u001b[1;33m\u001b[0m\u001b[1;33m\u001b[0m\u001b[0m\n\u001b[0;32m     15\u001b[0m \u001b[1;31m# CSS_review=\".review_count \"\u001b[0m\u001b[1;33m\u001b[0m\u001b[1;33m\u001b[0m\u001b[0m\n",
      "\u001b[1;31mAttributeError\u001b[0m: 'list' object has no attribute 'get_text'"
     ]
    }
   ],
   "source": [
    "from selenium import webdriver as driver\n",
    "from selenium.webdriver import ActionChains as AC\n",
    "\n",
    "a=[]\n",
    "\n",
    "province_url=f\"https://www.tripadvisor.com/Search?q=south%20korea&searchSessionId=FEA1095D400E57A72FD10023F998B9171588658590823ssid&searchNearby=false&sid=BB26669DA95EE28FEEAE860A2E877D901588658599003&blockRedirect=true&rf=2&ssrc=e\"\n",
    "\n",
    "chrome = driver.Chrome()\n",
    "chrome.get(province_url)\n",
    "\n",
    "\n",
    "reviews = chrome.find_elements_by_xpath(\"//a[@href]\")  \n",
    "reviews.get_text()\n",
    "# a.append(reviews.text)\n",
    "# CSS_review=\".review_count \"\n",
    "# reviews = chrome.find_elements_by_css_selector(CSS_review)\n",
    "\n",
    "# for review in reviews:\n",
    "#     a.append(review.text)\n",
    "#     print(a)\n",
    " \n"
   ]
  },
  {
   "cell_type": "code",
   "execution_count": 31,
   "metadata": {
    "scrolled": true
   },
   "outputs": [
    {
     "name": "stdout",
     "output_type": "stream",
     "text": [
      "['1,226 reviews']\n",
      "['1,226 reviews', '80 reviews']\n",
      "['1,226 reviews', '80 reviews', '49 reviews']\n",
      "['1,226 reviews', '80 reviews', '49 reviews', '381 reviews']\n",
      "['1,226 reviews', '80 reviews', '49 reviews', '381 reviews', '103 reviews']\n",
      "['1,226 reviews', '80 reviews', '49 reviews', '381 reviews', '103 reviews', '31 reviews']\n",
      "['1,226 reviews', '80 reviews', '49 reviews', '381 reviews', '103 reviews', '31 reviews', '614 reviews']\n",
      "['1,226 reviews', '80 reviews', '49 reviews', '381 reviews', '103 reviews', '31 reviews', '614 reviews', '81 reviews']\n",
      "['1,226 reviews', '80 reviews', '49 reviews', '381 reviews', '103 reviews', '31 reviews', '614 reviews', '81 reviews', '164 reviews']\n",
      "['1,226 reviews', '80 reviews', '49 reviews', '381 reviews', '103 reviews', '31 reviews', '614 reviews', '81 reviews', '164 reviews', '33 reviews']\n",
      "['1,226 reviews', '80 reviews', '49 reviews', '381 reviews', '103 reviews', '31 reviews', '614 reviews', '81 reviews', '164 reviews', '33 reviews', '248 reviews']\n",
      "['1,226 reviews', '80 reviews', '49 reviews', '381 reviews', '103 reviews', '31 reviews', '614 reviews', '81 reviews', '164 reviews', '33 reviews', '248 reviews', '41 reviews']\n",
      "['1,226 reviews', '80 reviews', '49 reviews', '381 reviews', '103 reviews', '31 reviews', '614 reviews', '81 reviews', '164 reviews', '33 reviews', '248 reviews', '41 reviews', '34 reviews']\n",
      "['1,226 reviews', '80 reviews', '49 reviews', '381 reviews', '103 reviews', '31 reviews', '614 reviews', '81 reviews', '164 reviews', '33 reviews', '248 reviews', '41 reviews', '34 reviews', '53 reviews']\n",
      "['1,226 reviews', '80 reviews', '49 reviews', '381 reviews', '103 reviews', '31 reviews', '614 reviews', '81 reviews', '164 reviews', '33 reviews', '248 reviews', '41 reviews', '34 reviews', '53 reviews', '241 reviews']\n",
      "['1,226 reviews', '80 reviews', '49 reviews', '381 reviews', '103 reviews', '31 reviews', '614 reviews', '81 reviews', '164 reviews', '33 reviews', '248 reviews', '41 reviews', '34 reviews', '53 reviews', '241 reviews', '20 reviews']\n",
      "['1,226 reviews', '80 reviews', '49 reviews', '381 reviews', '103 reviews', '31 reviews', '614 reviews', '81 reviews', '164 reviews', '33 reviews', '248 reviews', '41 reviews', '34 reviews', '53 reviews', '241 reviews', '20 reviews', '231 reviews']\n",
      "['1,226 reviews', '80 reviews', '49 reviews', '381 reviews', '103 reviews', '31 reviews', '614 reviews', '81 reviews', '164 reviews', '33 reviews', '248 reviews', '41 reviews', '34 reviews', '53 reviews', '241 reviews', '20 reviews', '231 reviews', '15 reviews']\n",
      "['1,226 reviews', '80 reviews', '49 reviews', '381 reviews', '103 reviews', '31 reviews', '614 reviews', '81 reviews', '164 reviews', '33 reviews', '248 reviews', '41 reviews', '34 reviews', '53 reviews', '241 reviews', '20 reviews', '231 reviews', '15 reviews', '373 reviews']\n",
      "['1,226 reviews', '80 reviews', '49 reviews', '381 reviews', '103 reviews', '31 reviews', '614 reviews', '81 reviews', '164 reviews', '33 reviews', '248 reviews', '41 reviews', '34 reviews', '53 reviews', '241 reviews', '20 reviews', '231 reviews', '15 reviews', '373 reviews', '131 reviews']\n",
      "['1,226 reviews', '80 reviews', '49 reviews', '381 reviews', '103 reviews', '31 reviews', '614 reviews', '81 reviews', '164 reviews', '33 reviews', '248 reviews', '41 reviews', '34 reviews', '53 reviews', '241 reviews', '20 reviews', '231 reviews', '15 reviews', '373 reviews', '131 reviews', '187 reviews']\n",
      "['1,226 reviews', '80 reviews', '49 reviews', '381 reviews', '103 reviews', '31 reviews', '614 reviews', '81 reviews', '164 reviews', '33 reviews', '248 reviews', '41 reviews', '34 reviews', '53 reviews', '241 reviews', '20 reviews', '231 reviews', '15 reviews', '373 reviews', '131 reviews', '187 reviews', '547 reviews']\n",
      "['1,226 reviews', '80 reviews', '49 reviews', '381 reviews', '103 reviews', '31 reviews', '614 reviews', '81 reviews', '164 reviews', '33 reviews', '248 reviews', '41 reviews', '34 reviews', '53 reviews', '241 reviews', '20 reviews', '231 reviews', '15 reviews', '373 reviews', '131 reviews', '187 reviews', '547 reviews', '850 reviews']\n",
      "['1,226 reviews', '80 reviews', '49 reviews', '381 reviews', '103 reviews', '31 reviews', '614 reviews', '81 reviews', '164 reviews', '33 reviews', '248 reviews', '41 reviews', '34 reviews', '53 reviews', '241 reviews', '20 reviews', '231 reviews', '15 reviews', '373 reviews', '131 reviews', '187 reviews', '547 reviews', '850 reviews', '57 reviews']\n",
      "['1,226 reviews', '80 reviews', '49 reviews', '381 reviews', '103 reviews', '31 reviews', '614 reviews', '81 reviews', '164 reviews', '33 reviews', '248 reviews', '41 reviews', '34 reviews', '53 reviews', '241 reviews', '20 reviews', '231 reviews', '15 reviews', '373 reviews', '131 reviews', '187 reviews', '547 reviews', '850 reviews', '57 reviews', '36 reviews']\n",
      "['1,226 reviews', '80 reviews', '49 reviews', '381 reviews', '103 reviews', '31 reviews', '614 reviews', '81 reviews', '164 reviews', '33 reviews', '248 reviews', '41 reviews', '34 reviews', '53 reviews', '241 reviews', '20 reviews', '231 reviews', '15 reviews', '373 reviews', '131 reviews', '187 reviews', '547 reviews', '850 reviews', '57 reviews', '36 reviews', '61 reviews']\n",
      "['1,226 reviews', '80 reviews', '49 reviews', '381 reviews', '103 reviews', '31 reviews', '614 reviews', '81 reviews', '164 reviews', '33 reviews', '248 reviews', '41 reviews', '34 reviews', '53 reviews', '241 reviews', '20 reviews', '231 reviews', '15 reviews', '373 reviews', '131 reviews', '187 reviews', '547 reviews', '850 reviews', '57 reviews', '36 reviews', '61 reviews', '702 reviews']\n",
      "['1,226 reviews', '80 reviews', '49 reviews', '381 reviews', '103 reviews', '31 reviews', '614 reviews', '81 reviews', '164 reviews', '33 reviews', '248 reviews', '41 reviews', '34 reviews', '53 reviews', '241 reviews', '20 reviews', '231 reviews', '15 reviews', '373 reviews', '131 reviews', '187 reviews', '547 reviews', '850 reviews', '57 reviews', '36 reviews', '61 reviews', '702 reviews', '357 reviews']\n",
      "['1,226 reviews', '80 reviews', '49 reviews', '381 reviews', '103 reviews', '31 reviews', '614 reviews', '81 reviews', '164 reviews', '33 reviews', '248 reviews', '41 reviews', '34 reviews', '53 reviews', '241 reviews', '20 reviews', '231 reviews', '15 reviews', '373 reviews', '131 reviews', '187 reviews', '547 reviews', '850 reviews', '57 reviews', '36 reviews', '61 reviews', '702 reviews', '357 reviews', '60 reviews']\n",
      "['1,226 reviews', '80 reviews', '49 reviews', '381 reviews', '103 reviews', '31 reviews', '614 reviews', '81 reviews', '164 reviews', '33 reviews', '248 reviews', '41 reviews', '34 reviews', '53 reviews', '241 reviews', '20 reviews', '231 reviews', '15 reviews', '373 reviews', '131 reviews', '187 reviews', '547 reviews', '850 reviews', '57 reviews', '36 reviews', '61 reviews', '702 reviews', '357 reviews', '60 reviews', '175 reviews']\n"
     ]
    }
   ],
   "source": [
    "from selenium import webdriver as driver\n",
    "from selenium.webdriver import ActionChains as AC\n",
    "\n",
    "a=[]\n",
    "\n",
    "province_url=f\"https://www.tripadvisor.com/Search?q=south%20korea&searchSessionId=FEA1095D400E57A72FD10023F998B9171588658590823ssid&searchNearby=false&sid=BB26669DA95EE28FEEAE860A2E877D901588658599003&blockRedirect=true&rf=2&ssrc=e\"\n",
    "\n",
    "chrome = driver.Chrome()\n",
    "chrome.get(province_url)\n",
    "\n",
    "CSS_review=\".review_count \"\n",
    "reviews = chrome.find_elements_by_css_selector(CSS_review)\n",
    "\n",
    "for review in reviews:\n",
    "    a.append(review.text)\n",
    "    print(a)\n",
    "    "
   ]
  },
  {
   "cell_type": "code",
   "execution_count": 30,
   "metadata": {},
   "outputs": [
    {
     "data": {
      "text/plain": [
       "[]"
      ]
     },
     "execution_count": 30,
     "metadata": {},
     "output_type": "execute_result"
    }
   ],
   "source": [
    "a"
   ]
  },
  {
   "cell_type": "code",
   "execution_count": 28,
   "metadata": {},
   "outputs": [],
   "source": [
    "\n",
    "province_url=f\"https://www.tripadvisor.com/Search?q=south%20korea&searchSessionId=FEA1095D400E57A72FD10023F998B9171588658590823ssid&searchNearby=false&sid=BB26669DA95EE28FEEAE860A2E877D901588658599003&blockRedirect=true&rf=2&ssrc=e\"\n",
    "\n",
    "source = urlopen(province_url).read()                 ##____새로만들어진 웹주소의 소스 불러오기 눈에 보이지않음\n",
    "source = bs4.BeautifulSoup(source, 'lxml')     ##____파싱\n",
    "for i in range(10): \n",
    "    try:                                                ##____리뷰중 파이썬 인식불가문자(이모티콘)발견시 에러안나고 패스시키는 try\n",
    "        review = source.find_all('href', class_='review_count')[i]  ##____리뷰부분 태그 가져오기\n",
    "        review=review.get_text()                        ##____리뷰의 문자 데이터만  가져오기\n",
    "        file_.write(review)                             ##____문자데이터를 텍스트파일에 저장\n",
    "        #print(review)                                  ##____데이터 잘 가져오는지 테스트\n",
    "    except: \n",
    "        pass "
   ]
  },
  {
   "cell_type": "code",
   "execution_count": null,
   "metadata": {},
   "outputs": [],
   "source": [
    "\n",
    "province_url=f\"https://www.tripadvisor.com/Search?q=south%20korea&searchSessionId=FEA1095D400E57A72FD10023F998B9171588658590823ssid&searchNearby=false&sid=BB26669DA95EE28FEEAE860A2E877D901588658599003&blockRedirect=true&rf=2&ssrc=e\"\n",
    "\n",
    "source = urlopen(province_url).read()                 ##____새로만들어진 웹주소의 소스 불러오기 눈에 보이지않음\n",
    "source = bs4.BeautifulSoup(source, 'lxml')     ##____파싱\n",
    "for i in range(10): \n",
    "    try:                                                ##____리뷰중 파이썬 인식불가문자(이모티콘)발견시 에러안나고 패스시키는 try\n",
    "        review = source.find_all('p', class_='partial_entry')[i]  ##____리뷰부분 태그 가져오기\n",
    "        review=review.get_text()                        ##____리뷰의 문자 데이터만  가져오기\n",
    "        file_.write(review)                             ##____문자데이터를 텍스트파일에 저장\n",
    "        #print(review)                                  ##____데이터 잘 가져오는지 테스트\n",
    "    except: \n",
    "        pass "
   ]
  }
 ],
 "metadata": {
  "kernelspec": {
   "display_name": "Python 3",
   "language": "python",
   "name": "python3"
  },
  "language_info": {
   "codemirror_mode": {
    "name": "ipython",
    "version": 3
   },
   "file_extension": ".py",
   "mimetype": "text/x-python",
   "name": "python",
   "nbconvert_exporter": "python",
   "pygments_lexer": "ipython3",
   "version": "3.6.5"
  }
 },
 "nbformat": 4,
 "nbformat_minor": 4
}
