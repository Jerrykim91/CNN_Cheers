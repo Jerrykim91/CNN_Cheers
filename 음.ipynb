{
 "cells": [
  {
   "cell_type": "code",
   "execution_count": 4,
   "metadata": {},
   "outputs": [],
   "source": [
    "# http://www.vision.caltech.edu/Image_Datasets/Caltech101/\n",
    "# http://www.vision.caltech.edu/Image_Datasets/Caltech101/101_ObjectCategories.tar.gz"
   ]
  },
  {
   "cell_type": "markdown",
   "metadata": {},
   "source": [
    "# Caltech101\n",
    "\n",
    "101개의 범주에 속하는 개체의 그림     \n",
    "각 카테고리당 약 40-800개의 이미지   \n",
    "대부분의 카테고리에는 약 50개가 존재      \n",
    "각 이미지의 크기는 300\\*200   \n",
    "\n",
    "다운로드:<http://www.vision.caltech.edu/Image_Datasets/Caltech101/101_ObjectCategories.tar.gz>\n",
    "\n",
    "\n",
    "데이터 셋을 추출  \n",
    "추출 된 데이터 셋을 3 종류로 분류\n"
   ]
  },
  {
   "cell_type": "markdown",
   "metadata": {},
   "source": [
    "## 샘플 이미지 \n",
    "\n",
    "|클래스|데이터 수|\n",
    "|:---:|:---:|\n",
    "|비행기| 800|\n",
    "|오토바이| 789|\n",
    "|사람얼굴| 435|\n",
    "|시계| 239|\n",
    "|표범| 200|\n",
    "|화초|128|\n",
    "|총|2600| "
   ]
  },
  {
   "cell_type": "markdown",
   "metadata": {},
   "source": [
    "## 데이터 다운로드 "
   ]
  },
  {
   "cell_type": "code",
   "execution_count": null,
   "metadata": {},
   "outputs": [],
   "source": []
  },
  {
   "cell_type": "code",
   "execution_count": null,
   "metadata": {},
   "outputs": [],
   "source": []
  }
 ],
 "metadata": {
  "kernelspec": {
   "display_name": "Python 3",
   "language": "python",
   "name": "python3"
  },
  "language_info": {
   "codemirror_mode": {
    "name": "ipython",
    "version": 3
   },
   "file_extension": ".py",
   "mimetype": "text/x-python",
   "name": "python",
   "nbconvert_exporter": "python",
   "pygments_lexer": "ipython3",
   "version": "3.6.5"
  }
 },
 "nbformat": 4,
 "nbformat_minor": 4
}
