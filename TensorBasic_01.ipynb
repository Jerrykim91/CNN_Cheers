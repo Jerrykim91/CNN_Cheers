{
 "cells": [
  {
   "cell_type": "code",
   "execution_count": 1,
   "metadata": {},
   "outputs": [],
   "source": [
    "# https://www.tensorflow.org/tutorials/keras/classification?hl=ko"
   ]
  },
  {
   "cell_type": "code",
   "execution_count": 2,
   "metadata": {},
   "outputs": [],
   "source": [
    "from __future__ import absolute_import, division, print_function, unicode_literals, unicode_literals"
   ]
  },
  {
   "cell_type": "markdown",
   "metadata": {},
   "source": [
    "## 퓨처문 정의 \n",
    "\n",
    "__future__ 는 실제 모듈이며 세 가지 용도로 사용\n",
    "\n",
    "- 임포트문을 분석하고 임포트하는 모듈을 발견하더라도 기존도구와 혼동하지 않게 하기위함\n",
    "\n",
    "\n",
    "자세한 내용은 여기 ~ : < https://docs.python.org/ko/3/library/__future__.html >"
   ]
  },
  {
   "cell_type": "code",
   "execution_count": 3,
   "metadata": {
    "scrolled": true
   },
   "outputs": [
    {
     "name": "stdout",
     "output_type": "stream",
     "text": [
      "1.15.0\n"
     ]
    }
   ],
   "source": [
    "# tensorflow와 tf.keras를 임포트합니다.\n",
    "import tensorflow as tf \n",
    "from tensorflow import keras\n",
    "\n",
    "# 헬퍼(helper) 라이브러리를 임포트합니다.\n",
    "import numpy as np \n",
    "import matplotlib.pyplot as plt\n",
    "\n",
    "print(tf.__version__) # 텐서플로우 버전확인 "
   ]
  },
  {
   "cell_type": "markdown",
   "metadata": {},
   "source": [
    "# 패션 MNIST 데이터 셋 임포트하기 \n",
    "\n",
    "10개의 범주()와 70,000개(7만장)의 흑백 이미지로 구성된 패션 MNIST 데이터 셋을 사용 한다. \n",
    "이미지는 해상도 (28x28 픽셀)가 낮고 다음처럼 개별 옷 품목을 나타낸다.\n",
    "\n",
    "MNIST 데이터셋은 손글씨 숫자(0, 1, 2 등)과 사용하려는 옷 이미지와 동일한 포맷이다. \n",
    "패션 MNIST는 일반적인 MNIST보다 조금 더 어려운 문제이며 다양한 예제를 위해서 선택한다.\n",
    "\n",
    "보통 MNIST 두데이터 셋은 비교적 작기 때문에 알고리즘 작동여부를 확인하기위해서 사용된다. \n",
    "코드를 테스트하고 디버깅하는 용도로 적합하다.\n",
    "\n",
    "네트워크를 훈련하는데 6만개의 이미지를 사용하고 이후 정확하게 이미지를 분류하는지 1만개를 이용해 평가를 할 것이다. \n"
   ]
  },
  {
   "cell_type": "code",
   "execution_count": 4,
   "metadata": {},
   "outputs": [],
   "source": [
    "# 데이터 불러오기 \n",
    "\n",
    "fashion_mnist = keras.datasets.fashion_mnist\n",
    "\n",
    "(train_img, train_labs),(test_img, test_labs) = fashion_mnist.load_data()"
   ]
  },
  {
   "cell_type": "markdown",
   "metadata": {},
   "source": [
    "load_data() 함수를 호출하면 네개의 넘파이(numpy)배열이 반환 \n",
    "    - train_img, train_labs 배열은 모델 학습에 사용되는 훈련세트 \n",
    "    - test_img, test_labs 배열은 모델 테스트에 사용되는 테스트 세트 \n",
    "    \n",
    "이미지는 28x28크기의 넘파이 배열 형태 픽셀 값은 0과 255 사이의 값 \n",
    "레이블은 0에서 9까지의 정수 배열\n",
    "이 값은 이미지에 있는 옷의 클래스를 나타낸다. \n",
    "\n",
    "\n",
    "\n",
    "|레이블|   클래스  |\n",
    "|:----:|:---------:|\n",
    "|0     |T-shirt/top|\n",
    "|1     |Trouser    |\n",
    "|2     |Pullover   |\n",
    "|3     |Dress      |\n",
    "|4     |Coat       |\n",
    "|5     |Sandal     | \n",
    "|6     |Shirt      |\n",
    "|7     |Sneaker    |\n",
    "|8     |Bag        |\n",
    "|9     |Ankle boot |\n",
    "\n",
    "각 이미지는 하나의 레이블에 매핑되어 있다. \n",
    "데이터 셋에 클래스 이름이 들어있지 않기 때문에 나중에 이미지를 출력할때 사용하기 위 별도의 변수를 만들어 저장한다. \n"
   ]
  },
  {
   "cell_type": "code",
   "execution_count": 5,
   "metadata": {},
   "outputs": [
    {
     "data": {
      "text/plain": [
       "array([0, 0, 0, 0, 0, 0, 0, 0, 0, 0, 0, 0, 0, 0, 0, 0, 0, 0, 0, 0, 0, 0,\n",
       "       0, 0, 0, 0, 0, 0], dtype=uint8)"
      ]
     },
     "execution_count": 5,
     "metadata": {},
     "output_type": "execute_result"
    }
   ],
   "source": [
    "# train_img.shape\n",
    "train_img[0][1]"
   ]
  },
  {
   "cell_type": "code",
   "execution_count": 6,
   "metadata": {
    "scrolled": true
   },
   "outputs": [
    {
     "name": "stdout",
     "output_type": "stream",
     "text": [
      "['T-shirt/top', 'Trouser', 'Pullover', 'Dress', 'Coat', 'Sandal', 'Shirt', 'Sneaker', 'Bag', 'Ankle boot']\n"
     ]
    }
   ],
   "source": [
    "# 레이블 \n",
    "class_names = ['T-shirt/top', 'Trouser', 'Pullover', 'Dress', 'Coat',\n",
    "               'Sandal', 'Shirt', 'Sneaker', 'Bag', 'Ankle boot']\n",
    "\n",
    "print(class_names) # 확인용 "
   ]
  },
  {
   "cell_type": "markdown",
   "metadata": {},
   "source": [
    "# 데이터 탐색 \n",
    "\n",
    "모델을 훈련하기전에 데이터 셋을 보자 \n",
    "다음 코드는 훈련 세트에 6만개의 이미지가 있다는것을 보여줌 \n",
    "각, 이미지는 28x28픽셀로 표현 "
   ]
  },
  {
   "cell_type": "code",
   "execution_count": 7,
   "metadata": {},
   "outputs": [
    {
     "data": {
      "text/plain": [
       "(60000, 28, 28)"
      ]
     },
     "execution_count": 7,
     "metadata": {},
     "output_type": "execute_result"
    }
   ],
   "source": [
    "train_img.shape"
   ]
  },
  {
   "cell_type": "code",
   "execution_count": 8,
   "metadata": {},
   "outputs": [
    {
     "data": {
      "text/plain": [
       "60000"
      ]
     },
     "execution_count": 8,
     "metadata": {},
     "output_type": "execute_result"
    }
   ],
   "source": [
    "len(train_labs) # 6만개의 레이블 확인 "
   ]
  },
  {
   "cell_type": "code",
   "execution_count": 9,
   "metadata": {},
   "outputs": [
    {
     "data": {
      "text/plain": [
       "array([9, 0, 0, ..., 3, 0, 5], dtype=uint8)"
      ]
     },
     "execution_count": 9,
     "metadata": {},
     "output_type": "execute_result"
    }
   ],
   "source": [
    "# 각 레이블은 0과 9사이의 정수 \n",
    "train_labs"
   ]
  },
  {
   "cell_type": "code",
   "execution_count": 10,
   "metadata": {},
   "outputs": [
    {
     "data": {
      "text/plain": [
       "(60000,)"
      ]
     },
     "execution_count": 10,
     "metadata": {},
     "output_type": "execute_result"
    }
   ],
   "source": [
    "train_labs.shape"
   ]
  },
  {
   "cell_type": "code",
   "execution_count": 11,
   "metadata": {},
   "outputs": [
    {
     "data": {
      "text/plain": [
       "(10000, 28, 28)"
      ]
     },
     "execution_count": 11,
     "metadata": {},
     "output_type": "execute_result"
    }
   ],
   "source": [
    "test_img.shape # 테스트 데이터는 1만개의 데이터를 보유"
   ]
  },
  {
   "cell_type": "code",
   "execution_count": 12,
   "metadata": {},
   "outputs": [
    {
     "data": {
      "text/plain": [
       "(array([9, 2, 1, ..., 8, 1, 5], dtype=uint8), 10000)"
      ]
     },
     "execution_count": 12,
     "metadata": {},
     "output_type": "execute_result"
    }
   ],
   "source": [
    "test_labs, len(test_labs)"
   ]
  },
  {
   "cell_type": "markdown",
   "metadata": {},
   "source": [
    "# 데이터 전처리 \n",
    "\n",
    "네트워크를 훈련하기 전에 데이터를 전처리 진행해야한다.       \n",
    "훈련 세트에 있는 첫 번째 이미지를 보면 픽셀 값의 범위가 0~255 사이라는것을 확인가능하다."
   ]
  },
  {
   "cell_type": "code",
   "execution_count": 13,
   "metadata": {},
   "outputs": [
    {
     "data": {
      "image/png": "[encoded data removed]",
      "text/plain": [
       "<Figure size 432x288 with 2 Axes>"
      ]
     },
     "metadata": {
      "needs_background": "light"
     },
     "output_type": "display_data"
    }
   ],
   "source": [
    "plt.figure()\n",
    "plt.imshow(train_img[1])\n",
    "plt.colorbar()\n",
    "plt.grid(False)\n",
    "plt.show()"
   ]
  },
  {
   "cell_type": "code",
   "execution_count": 14,
   "metadata": {
    "scrolled": false
   },
   "outputs": [
    {
     "name": "stdout",
     "output_type": "stream",
     "text": [
      "10\n"
     ]
    },
    {
     "data": {
      "image/png": "[encoded data removed]",
      "text/plain": [
       "<Figure size 432x288 with 2 Axes>"
      ]
     },
     "metadata": {
      "needs_background": "light"
     },
     "output_type": "display_data"
    },
    {
     "name": "stdout",
     "output_type": "stream",
     "text": [
      "11\n"
     ]
    },
    {
     "data": {
      "image/png": "[encoded data removed]",
      "text/plain": [
       "<Figure size 432x288 with 2 Axes>"
      ]
     },
     "metadata": {
      "needs_background": "light"
     },
     "output_type": "display_data"
    },
    {
     "name": "stdout",
     "output_type": "stream",
     "text": [
      "12\n"
     ]
    },
    {
     "data": {
      "image/png": "[encoded data removed]",
      "text/plain": [
       "<Figure size 432x288 with 2 Axes>"
      ]
     },
     "metadata": {
      "needs_background": "light"
     },
     "output_type": "display_data"
    },
    {
     "name": "stdout",
     "output_type": "stream",
     "text": [
      "13\n"
     ]
    },
    {
     "data": {
      "image/png": "[encoded data removed]",
      "text/plain": [
       "<Figure size 432x288 with 2 Axes>"
      ]
     },
     "metadata": {
      "needs_background": "light"
     },
     "output_type": "display_data"
    },
    {
     "name": "stdout",
     "output_type": "stream",
     "text": [
      "14\n"
     ]
    },
    {
     "data": {
      "image/png": "[encoded data removed]",
      "text/plain": [
       "<Figure size 432x288 with 2 Axes>"
      ]
     },
     "metadata": {
      "needs_background": "light"
     },
     "output_type": "display_data"
    }
   ],
   "source": [
    "for i in range(10,15):\n",
    "    print(i)\n",
    "    plt.figure()\n",
    "    plt.imshow(train_img[i])\n",
    "    plt.colorbar()\n",
    "    plt.grid(False)\n",
    "    plt.show()"
   ]
  },
  {
   "cell_type": "markdown",
   "metadata": {},
   "source": [
    "신경망 모델에 주입하기 전에 이값의 범위를 0~1 사이로 조정한다.    \n",
    "이렇게 하기위해서는 255로 나누어야 한다.       \n",
    "훈련 세트와 테스트 세트를 동일한 방식으로 전처리하는 것이 중요하다."
   ]
  },
  {
   "cell_type": "code",
   "execution_count": 15,
   "metadata": {},
   "outputs": [],
   "source": [
    "train_img = train_img / 255.0\n",
    "test_img = test_img / 255.0"
   ]
  },
  {
   "cell_type": "markdown",
   "metadata": {},
   "source": [
    "훈련 세트에서 25개의 이미지와 그아래 클래스 이름을 출력      \n",
    "데이터 포멧이 올바른지 확인하고 네트워크 구성과 훈련할 준비     "
   ]
  },
  {
   "cell_type": "code",
   "execution_count": 16,
   "metadata": {
    "scrolled": false
   },
   "outputs": [
    {
     "data": {
      "image/png": "[encoded data removed]",
      "text/plain": [
       "<Figure size 720x720 with 25 Axes>"
      ]
     },
     "metadata": {},
     "output_type": "display_data"
    }
   ],
   "source": [
    "plt.figure(figsize=(10,10))\n",
    "for i in range(25):\n",
    "    plt.subplot(5,5,i+1)\n",
    "    plt.xticks([])\n",
    "    plt.yticks([])\n",
    "    plt.grid(False)\n",
    "    plt.imshow(train_img[i], cmap=plt.cm.binary)\n",
    "    plt.xlabel(class_names[train_labs[i]])\n",
    "plt.show()"
   ]
  },
  {
   "cell_type": "markdown",
   "metadata": {},
   "source": [
    "# 모델 구성 "
   ]
  },
  {
   "cell_type": "markdown",
   "metadata": {},
   "source": [
    "신경망 모델을 만들려면 모델의 층을 구성한다음에 모델을 컴파일한다. "
   ]
  },
  {
   "cell_type": "markdown",
   "metadata": {},
   "source": [
    "## 층설정 \n",
    "\n",
    "신경망의 기본 구성 요소는 레이어이다.      \n",
    "레이어는 주입된 데이터에서 표현을 추출한다.     \n",
    "문제를 해결하는 데에 있어 더 의미있는 표현이 추출될것이다.    \n",
    "\n",
    "대부분의 딥러닝을 간단한 층을 연결하여 구성된다.      \n",
    "`tf.keras.layers.Dense`와 같은 레이어들의 가중치(parameter)는 훈련하는 동안 학습된다."
   ]
  },
  {
   "cell_type": "code",
   "execution_count": 17,
   "metadata": {},
   "outputs": [
    {
     "name": "stdout",
     "output_type": "stream",
     "text": [
      "WARNING:tensorflow:From C:\\Users\\admin\\Anaconda3\\lib\\site-packages\\tensorflow_core\\python\\ops\\resource_variable_ops.py:1630: calling BaseResourceVariable.__init__ (from tensorflow.python.ops.resource_variable_ops) with constraint is deprecated and will be removed in a future version.\n",
      "Instructions for updating:\n",
      "If using Keras pass *_constraint arguments to layers.\n"
     ]
    }
   ],
   "source": [
    "# 모델 생성 \n",
    "\n",
    "model = keras.Sequential([\n",
    "    keras.layers.Flatten(input_shape=(28,28)),\n",
    "    keras.layers.Dense(128, activation='relu'),\n",
    "    keras.layers.Dense(10, activation='softmax')\n",
    "])"
   ]
  },
  {
   "cell_type": "markdown",
   "metadata": {},
   "source": [
    "\n",
    "```py\n",
    "\n",
    "# 모델 생성 \n",
    "model = keras.Sequential([\n",
    "\n",
    "    # 1번층 keras.layers.Flatten은 \n",
    "    # 2차원 배열(28\\*28)픽셀의 이미지 포멧 \n",
    "    # 28\\*28 =784픽셀의 1차원 배열로 변환 \n",
    "    # -> 이미지에 있는 픽셀의 행을 펼처서 일렬로 늘린다. \n",
    "    # 이층은 학습되는 가중치는 없고 데이터를 변환만 한다.  \n",
    "    \n",
    "    keras.layers.Flatten(input_shape=(28,28)), \n",
    "                                               \n",
    "    # 픽셀을 펼친 후에는 두개의 tf.keras.layers.Dense 층이 연속되어 연결\n",
    "    # 이 층을 밀집연결(densely-connected) 또는 완전 연결(fully-connected) 층\n",
    "    # 첫번째 Dense 층은 128개의 노드(뉴런)를 가짐\n",
    "    \n",
    "    keras.layers.Dense(128, activation='relu'), \n",
    "    \n",
    "    # 두번째 Dense(마지막층)은  10개의 노드의 소프트 맥스 층\n",
    "    # 10개의 확률을 반환하고 반환된 값의 전체의 합은 1\n",
    "    # 각 노드는 현재 이미지가 10개의 클래스 중 하나에 속할 확률을 출력 \n",
    "    \n",
    "    keras.layers.Dense(10, activation='softmax')\n",
    "])\n",
    "\n",
    "```"
   ]
  },
  {
   "cell_type": "markdown",
   "metadata": {},
   "source": [
    "## 모델 컴파일 \n",
    "\n",
    "모델 훈련하기 전에 필요한 몇 가지 설정을 모델 컴파일 단계에서 추가 \n",
    "\n",
    "- 손실함수(Loss function)\n",
    "    - 훈련 하는 동안 모델의 오차를 측정\n",
    "    - 모델의 학습이 몰바른 방향으로 향하도록 이 함수를 최소화\n",
    "    \n",
    "- 옵티마이저(Optimizer)\n",
    "    - 데이터와 손실 함수를 바탕으로 모델의 업데이트 방법을 결정 \n",
    "    - 학습속도를 빠르고 안정적이게 하는것 \n",
    "    \n",
    "    \n",
    "- 지표(Metrics)\n",
    "    - 훈련단계와 테스트 간계를 모니터링 하기위해 사용\n",
    "    - 다음 예에서는 올바르게 분류된 이미지의 비율인 정확도를 사용\n",
    "    "
   ]
  },
  {
   "cell_type": "markdown",
   "metadata": {},
   "source": [
    "```py\n",
    "\n",
    "model.compile( optimizer='adam', # 옵티마이저\n",
    "               loss='sparse_categorical_crossentropy', # 손실값\n",
    "               metrics=['accuracy'] # 지표 \n",
    "             )\n",
    "         \n",
    "         \n",
    "# adam : 둘다 고려해서 방향을 찾자 -> Momentum 과 AdaGrad 를 융합한 방법\n",
    "\n",
    "```\n",
    "[딥러닝 용어정리, Momentum, AdaGrad 설명](https://light-tree.tistory.com/140)"
   ]
  },
  {
   "cell_type": "code",
   "execution_count": 18,
   "metadata": {},
   "outputs": [],
   "source": [
    "model.compile( optimizer='adam', # 옵티마이저\n",
    "               loss='sparse_categorical_crossentropy', # 손실값\n",
    "               metrics=['accuracy'] # 지표 \n",
    "             )"
   ]
  },
  {
   "cell_type": "markdown",
   "metadata": {},
   "source": [
    "# 모델 훈련\n",
    "\n",
    "신경망 모델을 훈련하는 단계\n",
    "\n",
    "1. 훈련데이터를 모델에 주입 \n",
    "    - 트레인 이미지와 테스트 이미지의 배열 \n",
    "2. 모델이 이미지와 레이블을 매핑하는 방법을 배움 \n",
    "3. 테스트 세트에 대한 모델의 예측\n",
    "    - 트레인 이미지의 배열 \n",
    "    - 이 예측이 트레인 레이블의 배열과 맞는지 확인 \n",
    "    \n",
    " 훈련을 시작하기 앞서서 model.fit 메서드를 호출하여 모델에 훈련을 시킴 \n"
   ]
  },
  {
   "cell_type": "code",
   "execution_count": 19,
   "metadata": {},
   "outputs": [
    {
     "name": "stdout",
     "output_type": "stream",
     "text": [
      "Train on 60000 samples\n",
      "Epoch 1/10\n",
      "60000/60000 [==============================] - 2s 39us/sample - loss: 0.4955 - acc: 0.8259\n",
      "Epoch 2/10\n",
      "60000/60000 [==============================] - 2s 38us/sample - loss: 0.3707 - acc: 0.8658\n",
      "Epoch 3/10\n",
      "60000/60000 [==============================] - 2s 38us/sample - loss: 0.3337 - acc: 0.8791\n",
      "Epoch 4/10\n",
      "60000/60000 [==============================] - 2s 38us/sample - loss: 0.3113 - acc: 0.8866\n",
      "Epoch 5/10\n",
      "60000/60000 [==============================] - 2s 37us/sample - loss: 0.2932 - acc: 0.8914\n",
      "Epoch 6/10\n",
      "60000/60000 [==============================] - 2s 38us/sample - loss: 0.2792 - acc: 0.8959\n",
      "Epoch 7/10\n",
      "60000/60000 [==============================] - 2s 38us/sample - loss: 0.2672 - acc: 0.9009\n",
      "Epoch 8/10\n",
      "60000/60000 [==============================] - 2s 38us/sample - loss: 0.2568 - acc: 0.9043\n",
      "Epoch 9/10\n",
      "60000/60000 [==============================] - 2s 38us/sample - loss: 0.2480 - acc: 0.9080\n",
      "Epoch 10/10\n",
      "60000/60000 [==============================] - 2s 39us/sample - loss: 0.2400 - acc: 0.9113\n"
     ]
    },
    {
     "data": {
      "text/plain": [
       "<tensorflow.python.keras.callbacks.History at 0x14d187ba1d0>"
      ]
     },
     "execution_count": 19,
     "metadata": {},
     "output_type": "execute_result"
    }
   ],
   "source": [
    "# 학습 모델 만들기\n",
    "# model.fit(train_img, train_labs, epochs=5)\n",
    "model.fit(train_img, train_labs, epochs=10)"
   ]
  },
  {
   "cell_type": "markdown",
   "metadata": {},
   "source": [
    "# 정확도 평가 \n",
    "\n",
    "테스트 세트에서 모델의 성능을 비교 "
   ]
  },
  {
   "cell_type": "code",
   "execution_count": 22,
   "metadata": {},
   "outputs": [
    {
     "name": "stdout",
     "output_type": "stream",
     "text": [
      "10000/10000 - 0s - loss: 0.3384 - acc: 0.8818\n",
      "\n",
      "테스트 정확도: 0.8818\n"
     ]
    }
   ],
   "source": [
    "# 정확도 , 손실값\n",
    "test_loss, test_acc = model.evaluate(test_img, test_labs, verbose=2)\n",
    "print('\\n테스트 정확도:', test_acc)"
   ]
  },
  {
   "cell_type": "markdown",
   "metadata": {},
   "source": [
    " 테스트 세트의 정확도가 훈련 세트의 정확도 보다 조금 낮다.     \n",
    " 훈련 세트의 정확도와 테스트 세트의 정확도 사이의 차이는 과대적합(overfitting)때문 \n",
    " 과대적합은 머신러닝의 모델이 훈련데이터 보다 새로운 데이터에서 성능이 낮아지는 현상 "
   ]
  },
  {
   "cell_type": "markdown",
   "metadata": {},
   "source": [
    "# 예측 만들기 \n",
    " 훈련된 모델을 사용하여 이미지에 대한 예측을 만들 수 "
   ]
  }
 ],
 "metadata": {
  "kernelspec": {
   "display_name": "Python 3",
   "language": "python",
   "name": "python3"
  },
  "language_info": {
   "codemirror_mode": {
    "name": "ipython",
    "version": 3
   },
   "file_extension": ".py",
   "mimetype": "text/x-python",
   "name": "python",
   "nbconvert_exporter": "python",
   "pygments_lexer": "ipython3",
   "version": "3.6.5"
  }
 },
 "nbformat": 4,
 "nbformat_minor": 4
}
