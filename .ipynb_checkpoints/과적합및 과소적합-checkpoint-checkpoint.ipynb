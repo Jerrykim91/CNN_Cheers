{
 "cells": [
  {
   "cell_type": "code",
   "execution_count": 1,
   "metadata": {},
   "outputs": [],
   "source": [
    "# https://www.tensorflow.org/tutorials/keras/overfit_and_underfit?hl=ko"
   ]
  },
  {
   "cell_type": "markdown",
   "metadata": {},
   "source": [
    "# 과대적합과 과소적합"
   ]
  },
  {
   "cell_type": "markdown",
   "metadata": {},
   "source": [
    "1. 케라스의 api를 이용해 진행\n",
    "\n",
    "2. 모델이 훈련 세트에 과대적합(overfitting), 과대적합을 다루는 방법은 꼭 배워야하기 때문에 이 예제를 진행하고자 한다. \n",
    "\n",
    "3. 훈련 세트에서 높은 성능을 얻을 수 있지만 진짜 원하는 것은 테스트 세트(또는 이전에 본 적 없는 데이터)에 잘 일반화 되는 모델!! \n",
    "\n",
    "4. 과대적합의 반대는 과소적합(underfitting)이다. 과소적합은 테스트 세트의 성능이 향상될 여지가 아직 있을때 일어난다. -> 발생하는 원인은 여러가지 \n",
    "\n",
    "5. 모델이 단순하거나, 규제가 많거나, 단순히 충분히 훈련하지 않았을때 발생한다. -> 즉 네트워크가 훈련 세트에서 적절한 패턴을 학습하지 못했다는 뜻\n",
    "\n",
    "\n",
    "6. 모델을 너무 오래 훈련하면 과대적합 되기 때문에 시작하고 테스트에서 일반화 되지 못하는 패턴을 훈련세트에 학습해야한다. 과대적합과 과소적합 사이에서 균형을 잡아야 한다.\n",
    " 이를 위해서는 적절한 에포크 횟수동안 모델을 훈련하는 방법을 배울것이다.\n",
    " \n",
    "7. 과대적합을 막는 가장 좋은 방법은 더 많은 훈련데이터를 사용하는 것, 많은 데이터에서 훈련한 모델은 자연적으로 일반화 성능이 더 좋다. 데이터를 준비할 수 없을 때 그 다음으로 가장 좋은 방법은 규제(regularization)와 같은 기법을 사용하는것 \n",
    "\n",
    "8. 모델이 저장할 수 있는 정보의 양과 종류에 제약을 부과하는 방법 -> 네트워크가 소수의 패턴만 기억할 수 있다면 최적화 과정 동안 일반화 가능성이 높은 가장 중요한 패턴에 촛점을 맞출 것\n",
    "\n",
    "9. 이 예제는 두 가지 규제 기법인 가중치 규제와 드롭아웃(dropout)을 알아볼것이다.\n",
    " "
   ]
  },
  {
   "cell_type": "markdown",
   "metadata": {},
   "source": [
    "### IMDB 영화 리뷰 분류 모델의 성능을 향상"
   ]
  },
  {
   "cell_type": "code",
   "execution_count": null,
   "metadata": {},
   "outputs": [],
   "source": []
  },
  {
   "cell_type": "code",
   "execution_count": null,
   "metadata": {},
   "outputs": [],
   "source": []
  }
 ],
 "metadata": {
  "kernelspec": {
   "display_name": "Python 3",
   "language": "python",
   "name": "python3"
  },
  "language_info": {
   "codemirror_mode": {
    "name": "ipython",
    "version": 3
   },
   "file_extension": ".py",
   "mimetype": "text/x-python",
   "name": "python",
   "nbconvert_exporter": "python",
   "pygments_lexer": "ipython3",
   "version": "3.7.6"
  }
 },
 "nbformat": 4,
 "nbformat_minor": 4
}
