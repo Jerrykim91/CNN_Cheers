{
 "cells": [
  {
   "cell_type": "code",
   "execution_count": 1,
   "metadata": {
    "scrolled": true
   },
   "outputs": [
    {
     "name": "stdout",
     "output_type": "stream",
     "text": [
      "Collecting selenium\n",
      "  Downloading https://files.pythonhosted.org/packages/80/d6/4294f0b4bce4de0abf13e17190289f9d0613b0a44e5dd6a7f5ca98459853/selenium-3.141.0-py2.py3-none-any.whl (904kB)\n",
      "Requirement already satisfied: urllib3 in c:\\users\\ttmdr\\anaconda3\\lib\\site-packages (from selenium) (1.24.2)\n",
      "Installing collected packages: selenium\n",
      "Successfully installed selenium-3.141.0\n",
      "Note: you may need to restart the kernel to use updated packages.\n"
     ]
    }
   ],
   "source": [
    "pip install selenium"
   ]
  },
  {
   "cell_type": "code",
   "execution_count": 2,
   "metadata": {},
   "outputs": [
    {
     "name": "stdout",
     "output_type": "stream",
     "text": [
      "Collecting bs4\n",
      "  Downloading https://files.pythonhosted.org/packages/10/ed/7e8b97591f6f456174139ec089c769f89a94a1a4025fe967691de971f314/bs4-0.0.1.tar.gz\n",
      "Requirement already satisfied: beautifulsoup4 in c:\\users\\ttmdr\\anaconda3\\lib\\site-packages (from bs4) (4.8.0)\n",
      "Requirement already satisfied: soupsieve>=1.2 in c:\\users\\ttmdr\\anaconda3\\lib\\site-packages (from beautifulsoup4->bs4) (1.9.3)\n",
      "Building wheels for collected packages: bs4\n",
      "  Building wheel for bs4 (setup.py): started\n",
      "  Building wheel for bs4 (setup.py): finished with status 'done'\n",
      "  Created wheel for bs4: filename=bs4-0.0.1-cp37-none-any.whl size=1278 sha256=d4bd98038819e536f06e4719272e783a5cdda9a10cc0ce6cff622a6e5848abee\n",
      "  Stored in directory: C:\\Users\\ttmdr\\AppData\\Local\\pip\\Cache\\wheels\\a0\\b0\\b2\\4f80b9456b87abedbc0bf2d52235414c3467d8889be38dd472\n",
      "Successfully built bs4\n",
      "Installing collected packages: bs4\n",
      "Successfully installed bs4-0.0.1\n",
      "Note: you may need to restart the kernel to use updated packages.\n"
     ]
    }
   ],
   "source": [
    "pip install bs4"
   ]
  },
  {
   "cell_type": "code",
   "execution_count": 3,
   "metadata": {},
   "outputs": [],
   "source": [
    "import re, os                                               \n",
    "from urllib.request import Request,urlopen                     \n",
    "import bs4  \n",
    "import time\n",
    "import pandas as pd"
   ]
  },
  {
   "cell_type": "code",
   "execution_count": 4,
   "metadata": {},
   "outputs": [],
   "source": [
    "from selenium import webdriver                                 "
   ]
  },
  {
   "cell_type": "code",
   "execution_count": 5,
   "metadata": {},
   "outputs": [],
   "source": [
    "from selenium.webdriver.common.keys import Keys"
   ]
  },
  {
   "cell_type": "code",
   "execution_count": 6,
   "metadata": {},
   "outputs": [],
   "source": [
    "# https://www.tripadvisor.co.kr/Restaurant_Review-g294197-d1174982-Reviews-Tosokchon_Samgyetang-Seoul.html\n",
    "# https://www.tripadvisor.co.kr/Restaurant_Review-g294197-d1174982-Reviews-or10-Tosokchon_Samgyetang-Seoul.html\n",
    "# https://www.tripadvisor.co.kr/Restaurant_Review-g294197-d1174982-Reviews-or20-Tosokchon_Samgyetang-Seoul.html"
   ]
  },
  {
   "cell_type": "code",
   "execution_count": null,
   "metadata": {},
   "outputs": [],
   "source": [
    "####################-----< 한 키워드 크롤링 하는 것 >-----######################\n",
    "\n",
    "for i in range(0,72,10):\n",
    "    if i == 0:\n",
    "        url_str = \"https://www.tripadvisor.co.kr/Restaurant_Review-g294197-d1174982-Reviews\"\n",
    "        url_keyword = \"-Tosokchon_Samgyetang-Seoul.html\"\n",
    "        total_url = url_str + url_keyword\n",
    "        \n",
    "    else:\n",
    "        total_url = 'https://www.tripadvisor.co.kr/Restaurant_Review-g294197-d1174982-Reviews-or{}-Tosokchon_Samgyetang-Seoul.html'.format(i)\n",
    "\n",
    "    \n",
    "    driver = webdriver.Chrome('C:/Users/admin/Desktop/크롤링/chromedriver.exe')\n",
    "    driver.get(total_url)\n",
    "\n",
    "    time.sleep(3)\n",
    "\n",
    "    for j in range(0,10,1):\n",
    "        #  전체데이터\n",
    "        reviews = driver.find_elements_by_css_selector(\"//*[@id=\"BODY_BLOCK_JQUERY_REFLOW\"]/div[2]/div/div[2]/div/div/div/div/div[1]/div/div[1]/div/div[3]/div/div[1]/div/div[2]/div/div/div[1]/div/div\n",
    "\")\n",
    "        # print(reviews)\n",
    "        \n",
    "        # 리뷰\n",
    "        Temp_review = reviews[j].find_element_by_css_selector(\".partial_entry\").text\n",
    "        print(Temp_review)"
   ]
  },
  {
   "cell_type": "code",
   "execution_count": 31,
   "metadata": {},
   "outputs": [
    {
     "name": "stdout",
     "output_type": "stream",
     "text": [
      "[]\n",
      "[]\n",
      "[]\n",
      "[]\n",
      "[]\n",
      "[]\n",
      "[]\n",
      "[]\n",
      "[]\n",
      "[]\n",
      "[]\n",
      "[]\n",
      "[]\n",
      "[]\n",
      "[]\n",
      "[]\n",
      "[]\n",
      "[]\n"
     ]
    },
    {
     "ename": "KeyboardInterrupt",
     "evalue": "",
     "output_type": "error",
     "traceback": [
      "\u001b[1;31m---------------------------------------------------------------------------\u001b[0m",
      "\u001b[1;31mKeyboardInterrupt\u001b[0m                         Traceback (most recent call last)",
      "\u001b[1;32m<ipython-input-31-c90fecac798b>\u001b[0m in \u001b[0;36m<module>\u001b[1;34m\u001b[0m\n\u001b[0;32m     14\u001b[0m \u001b[1;33m\u001b[0m\u001b[0m\n\u001b[0;32m     15\u001b[0m     \u001b[1;32mfor\u001b[0m \u001b[0mi\u001b[0m \u001b[1;32min\u001b[0m \u001b[0mrange\u001b[0m\u001b[1;33m(\u001b[0m\u001b[1;36m1\u001b[0m\u001b[1;33m,\u001b[0m\u001b[1;36m72\u001b[0m\u001b[1;33m,\u001b[0m\u001b[1;36m10\u001b[0m\u001b[1;33m)\u001b[0m\u001b[1;33m:\u001b[0m\u001b[1;33m\u001b[0m\u001b[1;33m\u001b[0m\u001b[0m\n\u001b[1;32m---> 16\u001b[1;33m         \u001b[0mtime\u001b[0m\u001b[1;33m.\u001b[0m\u001b[0msleep\u001b[0m\u001b[1;33m(\u001b[0m\u001b[1;36m3\u001b[0m\u001b[1;33m)\u001b[0m\u001b[1;33m\u001b[0m\u001b[1;33m\u001b[0m\u001b[0m\n\u001b[0m\u001b[0;32m     17\u001b[0m         \u001b[0mdriver\u001b[0m\u001b[1;33m.\u001b[0m\u001b[0mfind_element_by_xpath\u001b[0m\u001b[1;33m(\u001b[0m\u001b[1;34m'//*[@id=\"BODY_BLOCK_JQUERY_REFLOW\"]/div[2]/div/div[2]/div/div/div/div/div[1]/div/div[1]/div/div[3]/div/div[1]/div/div[2]/div/div/div[{}]/div/div/div/div[2]/div[1]/div[2]/div/a'\u001b[0m\u001b[1;33m.\u001b[0m\u001b[0mformat\u001b[0m\u001b[1;33m(\u001b[0m\u001b[0mi\u001b[0m\u001b[1;33m)\u001b[0m\u001b[1;33m)\u001b[0m\u001b[1;33m.\u001b[0m\u001b[0msend_keys\u001b[0m\u001b[1;33m(\u001b[0m\u001b[0mKeys\u001b[0m\u001b[1;33m.\u001b[0m\u001b[0mENTER\u001b[0m\u001b[1;33m)\u001b[0m\u001b[1;33m\u001b[0m\u001b[1;33m\u001b[0m\u001b[0m\n\u001b[0;32m     18\u001b[0m \u001b[1;33m\u001b[0m\u001b[0m\n",
      "\u001b[1;31mKeyboardInterrupt\u001b[0m: "
     ]
    }
   ],
   "source": [
    "##############-----< 여러 키워드 한 번에 크롤링 하는 것 >-----#################\n",
    "# driver = webdriver.Chrome('C:/Users/admin/Desktop/크롤링/chromedriver.exe')\n",
    "# driver.get(url)\n",
    "\n",
    "for h in range(0,990,30):\n",
    "    if h == 0:\n",
    "        url = \"https://www.tripadvisor.com/Search?q=south%20korea&searchSessionId=FEA1095D400E57A72FD10023F998B9171588658590823ssid&searchNearby=false&sid=BB26669DA95EE28FEEAE860A2E877D901588658599003&blockRedirect=true&rf=2&ssrc=e\"\n",
    "        \n",
    "    else:\n",
    "        url = 'https://www.tripadvisor.com/Search?q=south%20korea&searchSessionId=FEA1095D400E57A72FD10023F998B9171588658590823ssid&searchNearby=false&sid=BB26669DA95EE28FEEAE860A2E877D901588658599003&blockRedirect=true&rf=3&ssrc=e&o={}'.format(h)\n",
    "     \n",
    "    driver = webdriver.Chrome('C:/Users/ttmdr/OneDrive/바탕 화면/크롤링/chromedriver.exe')\n",
    "    driver.get(url)\n",
    "    \n",
    "    for i in range(1,72,10):\n",
    "        time.sleep(3)\n",
    "        driver.find_element_by_xpath('//*[@id=\"BODY_BLOCK_JQUERY_REFLOW\"]/div[2]/div/div[2]/div/div/div/div/div[1]/div/div[1]/div/div[3]/div/div[1]/div/div[2]/div/div/div[{}]/div/div/div/div[2]/div[1]/div[2]/div/a'.format(i)).send_keys(Keys.ENTER)        \n",
    "\n",
    "        for j in range(0,9,1):\n",
    "            #  전체데이터\n",
    "            reviews = driver.find_elements_by_css_selector(\".review-container\")\n",
    "            print(reviews)\n",
    "\n",
    "#             # 리뷰\n",
    "#             Temp_review = reviews[j].find_element_by_css_selector(\".partial_entry\").text\n",
    "#             print(Temp_review)"
   ]
  },
  {
   "cell_type": "code",
   "execution_count": null,
   "metadata": {},
   "outputs": [],
   "source": [
    "//*[@id=\"review_753107106\"]/div/div[2]/div[2]/div/p\n",
    "//*[@id=\"review_753085582\"]/div/div[2]/div[2]/div/p"
   ]
  }
 ],
 "metadata": {
  "kernelspec": {
   "display_name": "Python 3",
   "language": "python",
   "name": "python3"
  },
  "language_info": {
   "codemirror_mode": {
    "name": "ipython",
    "version": 3
   },
   "file_extension": ".py",
   "mimetype": "text/x-python",
   "name": "python",
   "nbconvert_exporter": "python",
   "pygments_lexer": "ipython3",
   "version": "3.7.4"
  }
 },
 "nbformat": 4,
 "nbformat_minor": 4
}
