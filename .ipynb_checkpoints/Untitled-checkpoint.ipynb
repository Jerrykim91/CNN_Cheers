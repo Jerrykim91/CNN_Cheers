{
 "cells": [
  {
   "cell_type": "code",
   "execution_count": null,
   "metadata": {},
   "outputs": [],
   "source": [
    "# https://www.tensorflow.org/tutorials/keras/overfit_and_underfit?hl=ko"
   ]
  },
  {
   "cell_type": "markdown",
   "metadata": {},
   "source": [
    "# 과대적합과 과소적합"
   ]
  },
  {
   "cell_type": "markdown",
   "metadata": {},
   "source": [
    "과소적합\n",
    "- 과대적합의 반대는 과소적합(underfitting)\n",
    "- 과소적합은 테스트 세트의 성능이 향상될 여지가 아직 있을 때 발생 \n",
    "    - 모델이 너무 단순 경우\n",
    "    - 규제가 너무 많은 경우\n",
    "    - 단순히 충분히 오래 훈련하지 않는 경우     \n",
    "    -> 네트워크가 훈련 세트에서 적절한 패턴을 학습하지 못했다는 의미 \n",
    "    \n"
   ]
  },
  {
   "cell_type": "markdown",
   "metadata": {},
   "source": [
    "모델을 너무 오래 훈련하면 과대적합되며 테스트 세트에서 일반화되지 못하는 패턴을 훈련 세트에서 학습한다.     \n",
    "과대적합과 과소적합 사이에서 균형을 잡아야 한다.      \n",
    "-> 적절한 에포크 횟수동안 모델을 훈련하는 방법을 익혀야 한다. \n",
    "\n",
    "\n",
    "과대적합을 막는 가장 좋은 방법은 더 많은 훈련 데이터를 사용\n",
    "많은 데이터에서 훈련한 모델은 자연적으로 일반화 성능이 더 좋다.\n",
    "만약 데이터를 더 준비할 수 없을 때 그다음으로 가장 좋은 방법은 규제(regularization)와 같은 기법을 사용하는 것  -> 모델이 저장할 수 있는 정보의 양과 종류에 제약을 부과하는 방법\n",
    "\n",
    "\n",
    "### 네트워크가 소수의 패턴만 기억할 수 있다면 최적화 과정 동안 일반화 가능성이 높은 가장 중요한 패턴에 촛점을 맞출 것\n",
    "\n",
    "\n"
   ]
  },
  {
   "cell_type": "markdown",
   "metadata": {},
   "source": [
    "## IMDB 영화 리뷰 분류 모델"
   ]
  },
  {
   "cell_type": "code",
   "execution_count": 1,
   "metadata": {},
   "outputs": [
    {
     "name": "stdout",
     "output_type": "stream",
     "text": [
      "1.15.0\n"
     ]
    }
   ],
   "source": [
    "from __future__ import absolute_import, division, print_function, unicode_literals, unicode_literals\n",
    "\n",
    "import tensorflow as tf\n",
    "from tensorflow import keras\n",
    "\n",
    "import numpy as np\n",
    "import matplotlib.pyplot as plt\n",
    "\n",
    "print(tf.__version__)\n"
   ]
  },
  {
   "cell_type": "markdown",
   "metadata": {},
   "source": [
    "## IMDB 데이터셋 다운로드\n",
    "\n",
    "임베딩을 사용하지 않고 여기에서는 문장을 멀티- 핫 인코딩으로 변환할것 \n",
    "\n",
    "훈련세트에 빠르게 과대적합 될 것 -> 과대적합을 발생시키기고 어떻게 해결하는지 보이기 위해 선택한것\n",
    "\n",
    "멀티-핫 인코딩은 정수 시퀀스를 0과 1로 이루어진 벡터로 변환한다.\n",
    "정확하게 말하면 시퀀스 [3, 5]를 인덱스 3과 5만 1이고 나머지는 모두 0인 10,000 차원 벡터로 변환한다는 의미\n"
   ]
  },
  {
   "cell_type": "code",
   "execution_count": null,
   "metadata": {},
   "outputs": [],
   "source": []
  },
  {
   "cell_type": "code",
   "execution_count": null,
   "metadata": {},
   "outputs": [],
   "source": []
  },
  {
   "cell_type": "code",
   "execution_count": null,
   "metadata": {},
   "outputs": [],
   "source": []
  }
 ],
 "metadata": {
  "kernelspec": {
   "display_name": "Python 3",
   "language": "python",
   "name": "python3"
  },
  "language_info": {
   "codemirror_mode": {
    "name": "ipython",
    "version": 3
   },
   "file_extension": ".py",
   "mimetype": "text/x-python",
   "name": "python",
   "nbconvert_exporter": "python",
   "pygments_lexer": "ipython3",
   "version": "3.7.6"
  }
 },
 "nbformat": 4,
 "nbformat_minor": 4
}
