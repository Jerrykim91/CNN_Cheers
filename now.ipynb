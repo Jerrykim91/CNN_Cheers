{
 "cells": [
  {
   "cell_type": "code",
   "execution_count": 1,
   "metadata": {},
   "outputs": [],
   "source": [
    "import bs4\n",
    "import re, os    \n",
    "from selenium import webdriver  \n",
    "from urllib.request import Request,urlopen \n",
    "from selenium.webdriver.support.ui import WebDriverWait"
   ]
  },
  {
   "cell_type": "code",
   "execution_count": null,
   "metadata": {},
   "outputs": [],
   "source": []
  },
  {
   "cell_type": "code",
   "execution_count": 14,
   "metadata": {},
   "outputs": [
    {
     "ename": "AttributeError",
     "evalue": "'WebDriver' object has no attribute 'find_elements_by_class_id'",
     "output_type": "error",
     "traceback": [
      "\u001b[1;31m---------------------------------------------------------------------------\u001b[0m",
      "\u001b[1;31mAttributeError\u001b[0m                            Traceback (most recent call last)",
      "\u001b[1;32m<ipython-input-14-8898e97b24b5>\u001b[0m in \u001b[0;36m<module>\u001b[1;34m\u001b[0m\n\u001b[0;32m      8\u001b[0m \u001b[0mdriver\u001b[0m\u001b[1;33m.\u001b[0m\u001b[0mfind_element_by_class_name\u001b[0m\u001b[1;33m(\u001b[0m\u001b[1;34m\"rating-review-count\"\u001b[0m\u001b[1;33m)\u001b[0m\u001b[1;33m.\u001b[0m\u001b[0mclick\u001b[0m\u001b[1;33m(\u001b[0m\u001b[1;33m)\u001b[0m\u001b[1;33m\u001b[0m\u001b[0m\n\u001b[0;32m      9\u001b[0m \u001b[1;33m\u001b[0m\u001b[0m\n\u001b[1;32m---> 10\u001b[1;33m \u001b[0melems\u001b[0m \u001b[1;33m=\u001b[0m \u001b[0mdriver\u001b[0m\u001b[1;33m.\u001b[0m\u001b[0mfind_elements_by_class_id\u001b[0m\u001b[1;33m(\u001b[0m\u001b[1;34m\"taplc_location_reviews_list_resp_rr_resp_0\"\u001b[0m\u001b[1;33m)\u001b[0m\u001b[1;33m\u001b[0m\u001b[0m\n\u001b[0m\u001b[0;32m     11\u001b[0m \u001b[0mprint\u001b[0m\u001b[1;33m(\u001b[0m\u001b[0melems\u001b[0m\u001b[1;33m)\u001b[0m\u001b[1;33m\u001b[0m\u001b[0m\n\u001b[0;32m     12\u001b[0m \u001b[1;31m# for elem in elems:\u001b[0m\u001b[1;33m\u001b[0m\u001b[1;33m\u001b[0m\u001b[0m\n",
      "\u001b[1;31mAttributeError\u001b[0m: 'WebDriver' object has no attribute 'find_elements_by_class_id'"
     ]
    }
   ],
   "source": [
    "a=[]\n",
    "driver = webdriver.Chrome()                                          ##____셀레니움으로 구글드라이브 Turn on \n",
    "driver.implicitly_wait(10) \n",
    "\n",
    "# 기본페이지 \n",
    "driver.get(\"https://www.tripadvisor.com/Search?q=south%20korea&searchSessionId=FEA1095D400E57A72FD10023F998B9171588658590823ssid&searchNearby=false&sid=BB26669DA95EE28FEEAE860A2E877D901588658599003&blockRedirect=true&rf=3&ssrc=e\")\n",
    "# 링크페이지로 이동 \n",
    "driver.find_element_by_class_name(\"rating-review-count\").click() \n",
    "\n",
    "elems = driver.find_elements_by_class_id(\"taplc_location_reviews_list_resp_rr_resp_0\") \n",
    "print(elems)\n",
    "# for elem in elems:\n",
    "#     a.append(elems.text)"
   ]
  },
  {
   "cell_type": "code",
   "execution_count": null,
   "metadata": {},
   "outputs": [],
   "source": []
  },
  {
   "cell_type": "code",
   "execution_count": 22,
   "metadata": {},
   "outputs": [
    {
     "name": "stdout",
     "output_type": "stream",
     "text": [
      "[]\n"
     ]
    }
   ],
   "source": [
    "import re, os                                               \n",
    "from urllib.request import Request,urlopen                     \n",
    "import bs4  \n",
    "import time\n",
    "import pandas as pd\n",
    "from selenium import webdriver    \n",
    "# from selenium.webdriver.common.keys import Keys\n",
    "\n",
    "a=[]\n",
    "driver = webdriver.Chrome()                                          ##____셀레니움으로 구글드라이브 Turn on \n",
    "driver.implicitly_wait(10) \n",
    "\n",
    "# 기본페이지 \n",
    "driver.get(\"https://www.tripadvisor.com/Search?q=south%20korea&searchSessionId=FEA1095D400E57A72FD10023F998B9171588658590823ssid&searchNearby=false&sid=BB26669DA95EE28FEEAE860A2E877D901588658599003&blockRedirect=true&rf=3&ssrc=e\")\n",
    "# 링크페이지로 이동 \n",
    "driver.find_element_by_class_name(\"rating-review-count\").click() \n",
    "num=3\n",
    "items= driver.find_elements_by_xpath(f\"/html/body/div[2]/div[2]/div[2]/div[6]/div/div[1]/div[3]/div/div[5]/div/div[{num}]\")\n",
    "print(items)\n",
    "\n",
    "for i in items:\n",
    "    print(i.tect)\n",
    "# elems = driver.find_element_by_class_name(\"prw_rup\") \n",
    "\n",
    "# for elem in elems:\n",
    "#     a.append(elems.text)"
   ]
  },
  {
   "cell_type": "code",
   "execution_count": 12,
   "metadata": {},
   "outputs": [
    {
     "ename": "NameError",
     "evalue": "name 'elem' is not defined",
     "output_type": "error",
     "traceback": [
      "\u001b[1;31m---------------------------------------------------------------------------\u001b[0m",
      "\u001b[1;31mNameError\u001b[0m                                 Traceback (most recent call last)",
      "\u001b[1;32m<ipython-input-12-d481a2f5bd8b>\u001b[0m in \u001b[0;36m<module>\u001b[1;34m\u001b[0m\n\u001b[0;32m     26\u001b[0m \u001b[1;33m\u001b[0m\u001b[0m\n\u001b[0;32m     27\u001b[0m \u001b[1;31m#print(elem.get_attribute(\"href\"))\u001b[0m\u001b[1;33m\u001b[0m\u001b[1;33m\u001b[0m\u001b[0m\n\u001b[1;32m---> 28\u001b[1;33m \u001b[0mfront\u001b[0m\u001b[1;33m=\u001b[0m\u001b[0melem\u001b[0m\u001b[1;33m.\u001b[0m\u001b[0mget_attribute\u001b[0m\u001b[1;33m(\u001b[0m\u001b[1;34m\"href\"\u001b[0m\u001b[1;33m)\u001b[0m\u001b[1;33m[\u001b[0m\u001b[1;33m:\u001b[0m\u001b[1;36m71\u001b[0m\u001b[1;33m]\u001b[0m                     \u001b[1;31m##____이따가 여러페이지 크롤링을위한 웹주소중 고정변수 앞부분추출\u001b[0m\u001b[1;33m\u001b[0m\u001b[0m\n\u001b[0m\u001b[0;32m     29\u001b[0m \u001b[1;31m#print(front)\u001b[0m\u001b[1;33m\u001b[0m\u001b[1;33m\u001b[0m\u001b[0m\n\u001b[0;32m     30\u001b[0m \u001b[0mend\u001b[0m\u001b[1;33m=\u001b[0m\u001b[0melem\u001b[0m\u001b[1;33m.\u001b[0m\u001b[0mget_attribute\u001b[0m\u001b[1;33m(\u001b[0m\u001b[1;34m\"href\"\u001b[0m\u001b[1;33m)\u001b[0m\u001b[1;33m[\u001b[0m\u001b[1;36m71\u001b[0m\u001b[1;33m:\u001b[0m\u001b[1;33m]\u001b[0m                       \u001b[1;31m##____웹주소중 고정변수 뒷부분 추출\u001b[0m\u001b[1;33m\u001b[0m\u001b[0m\n",
      "\u001b[1;31mNameError\u001b[0m: name 'elem' is not defined"
     ]
    }
   ],
   "source": [
    "####Tripadvisor_Michelin**_Jungsik\n",
    "\n",
    "import re, os                                                    ##____문자열가공모듈인 re함수 호출 \n",
    "from selenium import webdriver                                   ##____마우스역할하는 셀레니움 속 웹드라이브 함수 호출 \n",
    "from selenium.webdriver.support.ui import WebDriverWait          ##____웹 완성까지 기다리는 웨이팅 함수 호출 \n",
    "#from selenium.webdriver.support import expected_conditions as EC ##____이번엔 사용하지않았지만 path를 활용하는 함수임. \n",
    "#from selenium.webdriver.common.by import By                     ##____이번엔 사용하지 않았지만 다른기능시 유용한 함수임. \n",
    "from urllib.request import Request,urlopen                       ##____url분석에 유용한 리퀘스트 함수 호출 \n",
    "import bs4                                                       ##____url파싱에 유용한 뷰티풀soup \n",
    " \n",
    " \n",
    "###Tripadvisor 크롤링 \n",
    "# 기본페이지 \n",
    "driver.get(\"https://www.tripadvisor.com/Search?q=south%20korea&searchSessionId=FEA1095D400E57A72FD10023F998B9171588658590823ssid&searchNearby=false&sid=BB26669DA95EE28FEEAE860A2E877D901588658599003&blockRedirect=true&rf=3&ssrc=e\")\n",
    "# 링크페이지로 이동 \n",
    "driver.find_element_by_class_name(\"rating-review-count\").click() \n",
    " \n",
    "elems = driver.find_elements_by_xpath(\"//a[@href]\")                  ##____링크설정되있는것들 크롤링 \n",
    "#chk=0 \n",
    "#for elem in elems:                                       ##____링크주소중에서 위에서 클릭한 첫번째 식당 주소찾기 \n",
    "    #chk+=1 \n",
    "    #print(elem.get_attribute(\"href\"))                    ##____프린트로 chk로 자르다보면 찾을수있음 \n",
    "    #if chk==17: \n",
    "        #break\n",
    " \n",
    " \n",
    "#print(elem.get_attribute(\"href\")) \n",
    "front=elem.get_attribute(\"href\")[:71]                     ##____이따가 여러페이지 크롤링을위한 웹주소중 고정변수 앞부분추출 \n",
    "#print(front) \n",
    "end=elem.get_attribute(\"href\")[71:]                       ##____웹주소중 고정변수 뒷부분 추출 \n",
    "#print(end) \n",
    " \n",
    " \n",
    " \n",
    "source = urlopen(elem.get_attribute(\"href\")).read()       ##____리퀘스트로 웹소스 리딩 \n",
    "source = bs4.BeautifulSoup(source, 'lxml')                ##____뷰티풀soup으로 웹소스 파싱   \n",
    "file_ = open('18nov21_'+name+'.txt', 'w')                 ##____데이터저장할 텍스트파일 열기 \n",
    " \n",
    " \n",
    " \n",
    "for i in range(10): \n",
    "    review = source.find_all('p', class_='partial_entry')[i]  ##____반복문으로 1페이지에있는 태그중 리뷰가있는 10개 추출\n",
    "    review=review.get_text()                                  ##____추출한 태그중 리뷰텍스트만 변수에 저장\n",
    "    file_.write(review)                                       ##____저장한 변수를 텍스트파일에 저장 \n",
    "    #print(review)                                            ##____텍스트부분이 리뷰가 맞는지 확인 \n",
    " \n",
    " \n",
    "try:                                                   ##____직접열어보지않은 다음페이지최대 10개를 열고 싶지만 적을경우에도 저장후종료하기위해 try사용\n",
    "    for j in range(10,100,10):                         ##____Tripadvisor는 다음 페이지가 리뷰가 10개라그런지 10단위로 변함\n",
    "        index = front+'or'+str(j)+'-'+end \n",
    "        print(index)   ##____위에서 웹주소 고정변수이용해서 뒷페이지 웹주소 만들기\n",
    "        source = urlopen(index).read()                 ##____새로만들어진 웹주소의 소스 불러오기 눈에 보이지않음\n",
    "        source = bs4.BeautifulSoup(source, 'lxml')     ##____파싱\n",
    "        for i in range(10): \n",
    "            try:                                                ##____리뷰중 파이썬 인식불가문자(이모티콘)발견시 에러안나고 패스시키는 try\n",
    "                review = source.find_all('p', class_='partial_entry')[i]  ##____리뷰부분 태그 가져오기\n",
    "                review=review.get_text()                        ##____리뷰의 문자 데이터만  가져오기\n",
    "                file_.write(review)                             ##____문자데이터를 텍스트파일에 저장\n",
    "                #print(review)                                  ##____데이터 잘 가져오는지 테스트\n",
    "            except: \n",
    "                pass \n",
    "except: \n",
    "    pass \n",
    " \n",
    "file_.close()"
   ]
  },
  {
   "cell_type": "code",
   "execution_count": null,
   "metadata": {},
   "outputs": [],
   "source": [
    "from selenium import webdriver\n",
    "# from bs4 import BeautifulSoup\n",
    "import urllib.request\n",
    "import time\n",
    "import os\n",
    "from selenium.webdriver.common.keys import Keys\n",
    "\n",
    "\n",
    "BASE_DIR = os.path.dirname(os.path.dirname(os.path.abspath(__file__)))\n",
    "root = os.path.join(BASE_DIR, 'data')\n",
    "\n",
    "\n",
    "options = webdriver.ChromeOptions()\n",
    "# options.add_argument('headless') # 화면 표시 x\n",
    "\n",
    "# 옵션 설정\n",
    "options.add_argument(\"disable-gpu\")   # gpu 사용여부 \n",
    "options.add_argument(\"lang=ko_KR\")    # 언어 선택 \n",
    "options.add_argument('user-agent=Mozilla/5.0 (Macintosh; Intel Mac OS X 10_12_6) AppleWebKit/537.36 (KHTML, like Gecko) Chrome/61.0.3163.100 Safari/537.36')  # 윈도우 환경 \n",
    "\n",
    "\n"
   ]
  }
 ],
 "metadata": {
  "kernelspec": {
   "display_name": "Python 3",
   "language": "python",
   "name": "python3"
  },
  "language_info": {
   "codemirror_mode": {
    "name": "ipython",
    "version": 3
   },
   "file_extension": ".py",
   "mimetype": "text/x-python",
   "name": "python",
   "nbconvert_exporter": "python",
   "pygments_lexer": "ipython3",
   "version": "3.6.5"
  }
 },
 "nbformat": 4,
 "nbformat_minor": 4
}
